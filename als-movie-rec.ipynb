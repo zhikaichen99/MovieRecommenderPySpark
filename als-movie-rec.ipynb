{
 "cells": [
  {
   "cell_type": "code",
   "execution_count": 2,
   "metadata": {},
   "outputs": [],
   "source": [
    "from pyspark.sql import SparkSession\n",
    "from pyspark.sql.types import StructType, StructField, IntegerType, LongType, StringType\n",
    "from pyspark.ml.recommendation import ALS\n",
    "from pyspark.ml.tuning import CrossValidator, ParamGridBuilder\n",
    "from pyspark.ml.evaluation import RegressionEvaluator \n",
    "from pyspark.sql.functions import explode, col\n",
    "\n",
    "import codecs\n",
    "import sys"
   ]
  },
  {
   "cell_type": "code",
   "execution_count": 3,
   "metadata": {},
   "outputs": [],
   "source": [
    "spark = SparkSession.builder.appName(\"ALSMovieRecNotebook\").getOrCreate()"
   ]
  },
  {
   "cell_type": "code",
   "execution_count": 4,
   "metadata": {},
   "outputs": [],
   "source": [
    "ratingsSchema = StructType([\n",
    "    StructField('userId', IntegerType(), True),\n",
    "    StructField('movieId', IntegerType(), True),\n",
    "    StructField('rating', IntegerType(), True),\n",
    "    StructField('timeStamp', LongType(), True)\n",
    "])"
   ]
  },
  {
   "cell_type": "code",
   "execution_count": 5,
   "metadata": {},
   "outputs": [
    {
     "name": "stdout",
     "output_type": "stream",
     "text": [
      "+------+-------+------+---------+\n",
      "|userId|movieId|rating|timeStamp|\n",
      "+------+-------+------+---------+\n",
      "|     1|   1193|     5|978300760|\n",
      "|     1|    661|     3|978302109|\n",
      "|     1|    914|     3|978301968|\n",
      "|     1|   3408|     4|978300275|\n",
      "|     1|   2355|     5|978824291|\n",
      "+------+-------+------+---------+\n",
      "only showing top 5 rows\n",
      "\n"
     ]
    }
   ],
   "source": [
    "data = spark.read.option('sep', '::').schema(ratingsSchema).csv('ml-1m/ratings.dat')\n",
    "data.show(5)"
   ]
  },
  {
   "cell_type": "code",
   "execution_count": 6,
   "metadata": {},
   "outputs": [],
   "source": [
    "movieSchema = StructType([\n",
    "    StructField('movieId', IntegerType(), True),\n",
    "    StructField('title', StringType(), True),\n",
    "    StructField('genres', StringType(), True)\n",
    "])"
   ]
  },
  {
   "cell_type": "code",
   "execution_count": 7,
   "metadata": {},
   "outputs": [
    {
     "name": "stdout",
     "output_type": "stream",
     "text": [
      "+-------+--------------------+--------------------+\n",
      "|movieId|               title|              genres|\n",
      "+-------+--------------------+--------------------+\n",
      "|      1|    Toy Story (1995)|Animation|Childre...|\n",
      "|      2|      Jumanji (1995)|Adventure|Childre...|\n",
      "|      3|Grumpier Old Men ...|      Comedy|Romance|\n",
      "|      4|Waiting to Exhale...|        Comedy|Drama|\n",
      "|      5|Father of the Bri...|              Comedy|\n",
      "+-------+--------------------+--------------------+\n",
      "only showing top 5 rows\n",
      "\n"
     ]
    }
   ],
   "source": [
    "movies = spark.read.option('sep', '::').schema(movieSchema).csv('ml-1m/movies.dat')\n",
    "movies.show(5)"
   ]
  },
  {
   "cell_type": "code",
   "execution_count": 8,
   "metadata": {},
   "outputs": [],
   "source": [
    "# Splitting data into training and test set\n",
    "(train, test) = data.randomSplit([0.7, 0.3], seed = 42)"
   ]
  },
  {
   "cell_type": "code",
   "execution_count": 9,
   "metadata": {},
   "outputs": [],
   "source": [
    "# Setting up ALS Model\n",
    "USERID = 'userId'\n",
    "MOVIEID = 'movieId'\n",
    "RATING = 'rating'\n",
    "\n",
    "als = ALS(\n",
    "    maxIter = 5,\n",
    "    regParam = 0.01,\n",
    "    nonnegative = True,\n",
    "    implicitPrefs = False,\n",
    "    userCol = USERID,\n",
    "    itemCol = MOVIEID,\n",
    "    ratingCol = RATING\n",
    ")"
   ]
  },
  {
   "cell_type": "code",
   "execution_count": 10,
   "metadata": {},
   "outputs": [],
   "source": [
    "# Hyperparameter Tuning\n",
    "param_grid = ParamGridBuilder().addGrid(als.rank, [10,50,100,150]).addGrid(als.regParam, [0.01, 0.05, 0.1, 0.15]).build()"
   ]
  },
  {
   "cell_type": "code",
   "execution_count": 11,
   "metadata": {},
   "outputs": [],
   "source": [
    "# Evaluator\n",
    "eval = RegressionEvaluator(metricName = 'rmse', labelCol = 'rating', predictionCol = 'prediction')"
   ]
  },
  {
   "cell_type": "code",
   "execution_count": 12,
   "metadata": {},
   "outputs": [],
   "source": [
    "# Cross Validation\n",
    "cross_val = CrossValidator(estimator = als, estimatorParamMaps = param_grid, evaluator = eval, numFolds = 5)"
   ]
  },
  {
   "cell_type": "code",
   "execution_count": 13,
   "metadata": {},
   "outputs": [],
   "source": [
    "model = cross_val.fit(train)"
   ]
  },
  {
   "cell_type": "code",
   "execution_count": 14,
   "metadata": {},
   "outputs": [],
   "source": [
    "best_model = model.bestModel"
   ]
  },
  {
   "cell_type": "code",
   "execution_count": 15,
   "metadata": {},
   "outputs": [
    {
     "name": "stdout",
     "output_type": "stream",
     "text": [
      "Rank: 10\n",
      "Reg Param: 0.01\n",
      "Max Iteration: 5\n"
     ]
    }
   ],
   "source": [
    "# view the parameters of the best model\n",
    "print('Rank:', best_model._java_obj.parent().getRank())\n",
    "print('Reg Param:', best_model._java_obj.parent().getRegParam())\n",
    "print('Max Iteration:', best_model._java_obj.parent().getMaxIter())"
   ]
  },
  {
   "cell_type": "code",
   "execution_count": 16,
   "metadata": {},
   "outputs": [],
   "source": [
    "# Get predictions for the test data using the best model\n",
    "predictions = best_model.transform(test)\n",
    "predictions = predictions.na.drop()"
   ]
  },
  {
   "cell_type": "code",
   "execution_count": 17,
   "metadata": {},
   "outputs": [
    {
     "name": "stdout",
     "output_type": "stream",
     "text": [
      "RMSE: 0.8906926686566768\n"
     ]
    }
   ],
   "source": [
    "# Evaluate Performance of model using RMSE\n",
    "rmse = eval.evaluate(predictions)\n",
    "print(f\"RMSE: {rmse}\")"
   ]
  },
  {
   "cell_type": "code",
   "execution_count": 24,
   "metadata": {},
   "outputs": [],
   "source": [
    "# Making recommendations for users\n",
    "num_recommendations = 10\n",
    "userID = 21\n",
    "userSchema = StructType(\n",
    "    [StructField('userId', IntegerType(), True)]\n",
    ")\n",
    "users = spark.createDataFrame([[userID,]], userSchema)\n",
    "\n",
    "recommendations = best_model.recommendForUserSubset(users, num_recommendations)\n",
    "\n"
   ]
  },
  {
   "cell_type": "code",
   "execution_count": 25,
   "metadata": {},
   "outputs": [
    {
     "name": "stdout",
     "output_type": "stream",
     "text": [
      "+------+--------------------+\n",
      "|userId|     recommendations|\n",
      "+------+--------------------+\n",
      "|    21|[{1575, 11.443403...|\n",
      "+------+--------------------+\n",
      "\n"
     ]
    }
   ],
   "source": [
    "recommendations.show()"
   ]
  },
  {
   "cell_type": "code",
   "execution_count": 26,
   "metadata": {},
   "outputs": [
    {
     "name": "stdout",
     "output_type": "stream",
     "text": [
      "+------+-------+---------+\n",
      "|userId|movieId|   rating|\n",
      "+------+-------+---------+\n",
      "|    21|   1575|11.443403|\n",
      "|    21|   2627|11.159713|\n",
      "|    21|   2913|10.363252|\n",
      "|    21|   3050|9.4365425|\n",
      "|    21|    682| 9.299013|\n",
      "|    21|    309| 9.141784|\n",
      "|    21|   3816| 9.130868|\n",
      "|    21|   1773| 9.068056|\n",
      "|    21|   2998| 8.974762|\n",
      "|    21|    718| 8.607745|\n",
      "+------+-------+---------+\n",
      "\n"
     ]
    }
   ],
   "source": [
    "recommendations = recommendations.withColumn('rec_explode', explode('recommendations'))\\\n",
    "    .select('userId', col('rec_explode.movieId'), col('rec_explode.rating'))\n",
    "\n",
    "recommendations.show()"
   ]
  },
  {
   "cell_type": "code",
   "execution_count": 27,
   "metadata": {},
   "outputs": [
    {
     "name": "stdout",
     "output_type": "stream",
     "text": [
      "+-------+----------------+--------------------+\n",
      "|movieId|           title|              genres|\n",
      "+-------+----------------+--------------------+\n",
      "|      1|Toy Story (1995)|Animation|Childre...|\n",
      "+-------+----------------+--------------------+\n",
      "only showing top 1 row\n",
      "\n"
     ]
    }
   ],
   "source": [
    "movies.show(1)"
   ]
  },
  {
   "cell_type": "code",
   "execution_count": 28,
   "metadata": {},
   "outputs": [
    {
     "name": "stdout",
     "output_type": "stream",
     "text": [
      "+-------+------+---------+--------------------+-----------------+\n",
      "|movieId|userId|   rating|               title|           genres|\n",
      "+-------+------+---------+--------------------+-----------------+\n",
      "|   1575|    21|11.443403|       Gabbeh (1996)|            Drama|\n",
      "|   2627|    21|11.159713|    Endurance (1998)|Documentary|Drama|\n",
      "|   2913|    21|10.363252|Mating Habits of ...|           Comedy|\n",
      "|   3050|    21|9.4365425|  Light It Up (1999)|            Drama|\n",
      "|    682|    21| 9.299013|Tigrero: A Film T...|Documentary|Drama|\n",
      "|    309|    21| 9.141784|Red Firecracker, ...|            Drama|\n",
      "|   3816|    21| 9.130868|Official Story, T...|            Drama|\n",
      "|   1773|    21| 9.068056|   Tokyo Fist (1995)|     Action|Drama|\n",
      "|   2998|    21| 8.974762|Dreaming of Josep...|          Romance|\n",
      "|    718|    21| 8.607745|Visitors, The (Le...|    Comedy|Sci-Fi|\n",
      "+-------+------+---------+--------------------+-----------------+\n",
      "\n"
     ]
    }
   ],
   "source": [
    "recommendations.join(movies, on = 'movieId').show()"
   ]
  },
  {
   "cell_type": "code",
   "execution_count": 29,
   "metadata": {},
   "outputs": [
    {
     "name": "stdout",
     "output_type": "stream",
     "text": [
      "+-------+------+------+---------+--------------------+--------------------+\n",
      "|movieId|userId|rating|timeStamp|               title|              genres|\n",
      "+-------+------+------+---------+--------------------+--------------------+\n",
      "|   1035|     1|     5|978301753|Sound of Music, T...|             Musical|\n",
      "|   1836|     1|     5|978300172|Last Days of Disc...|               Drama|\n",
      "|   3105|     1|     5|978301713|   Awakenings (1990)|               Drama|\n",
      "|   2355|     1|     5|978824291|Bug's Life, A (1998)|Animation|Childre...|\n",
      "|   1270|     1|     5|978300055|Back to the Futur...|       Comedy|Sci-Fi|\n",
      "+-------+------+------+---------+--------------------+--------------------+\n",
      "only showing top 5 rows\n",
      "\n"
     ]
    }
   ],
   "source": [
    "data.join(movies, on = 'movieId').filter('userId = 1').sort('rating', ascending = False).show(5)"
   ]
  },
  {
   "cell_type": "code",
   "execution_count": null,
   "metadata": {},
   "outputs": [],
   "source": []
  }
 ],
 "metadata": {
  "kernelspec": {
   "display_name": "base",
   "language": "python",
   "name": "python3"
  },
  "language_info": {
   "codemirror_mode": {
    "name": "ipython",
    "version": 3
   },
   "file_extension": ".py",
   "mimetype": "text/x-python",
   "name": "python",
   "nbconvert_exporter": "python",
   "pygments_lexer": "ipython3",
   "version": "3.7.6"
  },
  "orig_nbformat": 4,
  "vscode": {
   "interpreter": {
    "hash": "cfe1806ee3762726609472ee4f4ffc37196835ec71722d530286fe0706b251ae"
   }
  }
 },
 "nbformat": 4,
 "nbformat_minor": 2
}
