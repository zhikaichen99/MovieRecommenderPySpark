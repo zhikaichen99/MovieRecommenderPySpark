{
 "cells": [
  {
   "attachments": {},
   "cell_type": "markdown",
   "metadata": {},
   "source": [
    "# Collaborative Filtering with ALS using PySpark"
   ]
  },
  {
   "cell_type": "code",
   "execution_count": 2,
   "metadata": {},
   "outputs": [],
   "source": [
    "from pyspark.sql import SparkSession\n",
    "from pyspark.sql.types import StructType, StructField, IntegerType, LongType, StringType\n",
    "from pyspark.ml.recommendation import ALS\n",
    "from pyspark.ml.tuning import CrossValidator, ParamGridBuilder\n",
    "from pyspark.ml.evaluation import RegressionEvaluator \n",
    "from pyspark.sql.functions import explode, col\n",
    "\n",
    "import codecs\n",
    "import sys"
   ]
  },
  {
   "attachments": {},
   "cell_type": "markdown",
   "metadata": {},
   "source": [
    "#### Creating SparkSession"
   ]
  },
  {
   "cell_type": "code",
   "execution_count": 3,
   "metadata": {},
   "outputs": [],
   "source": [
    "spark = SparkSession.builder.appName(\"ALSMovieRecNotebook\").getOrCreate()"
   ]
  },
  {
   "cell_type": "code",
   "execution_count": 4,
   "metadata": {},
   "outputs": [],
   "source": [
    "ratingsSchema = StructType([\n",
    "    StructField('userId', IntegerType(), True),\n",
    "    StructField('movieId', IntegerType(), True),\n",
    "    StructField('rating', IntegerType(), True),\n",
    "    StructField('timeStamp', LongType(), True)\n",
    "])"
   ]
  },
  {
   "cell_type": "code",
   "execution_count": 5,
   "metadata": {},
   "outputs": [
    {
     "name": "stdout",
     "output_type": "stream",
     "text": [
      "+------+-------+------+---------+\n",
      "|userId|movieId|rating|timeStamp|\n",
      "+------+-------+------+---------+\n",
      "|     1|   1193|     5|978300760|\n",
      "|     1|    661|     3|978302109|\n",
      "|     1|    914|     3|978301968|\n",
      "|     1|   3408|     4|978300275|\n",
      "|     1|   2355|     5|978824291|\n",
      "+------+-------+------+---------+\n",
      "only showing top 5 rows\n",
      "\n"
     ]
    }
   ],
   "source": [
    "data = spark.read.option('sep', '::').schema(ratingsSchema).csv('ml-1m/ratings.dat')\n",
    "data.show(5)"
   ]
  },
  {
   "cell_type": "code",
   "execution_count": 6,
   "metadata": {},
   "outputs": [],
   "source": [
    "movieSchema = StructType([\n",
    "    StructField('movieId', IntegerType(), True),\n",
    "    StructField('title', StringType(), True),\n",
    "    StructField('genres', StringType(), True)\n",
    "])"
   ]
  },
  {
   "cell_type": "code",
   "execution_count": 7,
   "metadata": {},
   "outputs": [
    {
     "name": "stdout",
     "output_type": "stream",
     "text": [
      "+-------+--------------------+--------------------+\n",
      "|movieId|               title|              genres|\n",
      "+-------+--------------------+--------------------+\n",
      "|      1|    Toy Story (1995)|Animation|Childre...|\n",
      "|      2|      Jumanji (1995)|Adventure|Childre...|\n",
      "|      3|Grumpier Old Men ...|      Comedy|Romance|\n",
      "|      4|Waiting to Exhale...|        Comedy|Drama|\n",
      "|      5|Father of the Bri...|              Comedy|\n",
      "+-------+--------------------+--------------------+\n",
      "only showing top 5 rows\n",
      "\n"
     ]
    }
   ],
   "source": [
    "movies = spark.read.option('sep', '::').schema(movieSchema).csv('ml-1m/movies.dat')\n",
    "movies.show(5)"
   ]
  },
  {
   "attachments": {},
   "cell_type": "markdown",
   "metadata": {},
   "source": [
    "#### Train/Test Split"
   ]
  },
  {
   "cell_type": "code",
   "execution_count": 8,
   "metadata": {},
   "outputs": [],
   "source": [
    "# Splitting data into training and test set\n",
    "(train, test) = data.randomSplit([0.7, 0.3], seed = 42)"
   ]
  },
  {
   "attachments": {},
   "cell_type": "markdown",
   "metadata": {},
   "source": [
    "#### ALS Model"
   ]
  },
  {
   "cell_type": "code",
   "execution_count": 9,
   "metadata": {},
   "outputs": [],
   "source": [
    "# Setting up ALS Model\n",
    "USERID = 'userId'\n",
    "MOVIEID = 'movieId'\n",
    "RATING = 'rating'\n",
    "\n",
    "als = ALS(\n",
    "    maxIter = 5,\n",
    "    regParam = 0.01,\n",
    "    nonnegative = True,\n",
    "    implicitPrefs = False,\n",
    "    userCol = USERID,\n",
    "    itemCol = MOVIEID,\n",
    "    ratingCol = RATING\n",
    ")"
   ]
  },
  {
   "attachments": {},
   "cell_type": "markdown",
   "metadata": {},
   "source": [
    "#### Hyperparameter Tuning"
   ]
  },
  {
   "cell_type": "code",
   "execution_count": 10,
   "metadata": {},
   "outputs": [],
   "source": [
    "# Hyperparameter Tuning\n",
    "param_grid = ParamGridBuilder().addGrid(als.rank, [10,50,100,150]).addGrid(als.regParam, [0.01, 0.05, 0.1, 0.15]).build()"
   ]
  },
  {
   "cell_type": "code",
   "execution_count": 11,
   "metadata": {},
   "outputs": [],
   "source": [
    "# Evaluator\n",
    "eval = RegressionEvaluator(metricName = 'rmse', labelCol = 'rating', predictionCol = 'prediction')"
   ]
  },
  {
   "attachments": {},
   "cell_type": "markdown",
   "metadata": {},
   "source": [
    "#### Cross Validation"
   ]
  },
  {
   "cell_type": "code",
   "execution_count": 12,
   "metadata": {},
   "outputs": [],
   "source": [
    "# Cross Validation\n",
    "cross_val = CrossValidator(estimator = als, estimatorParamMaps = param_grid, evaluator = eval, numFolds = 5)"
   ]
  },
  {
   "cell_type": "code",
   "execution_count": 13,
   "metadata": {},
   "outputs": [],
   "source": [
    "model = cross_val.fit(train)"
   ]
  },
  {
   "cell_type": "code",
   "execution_count": 14,
   "metadata": {},
   "outputs": [],
   "source": [
    "best_model = model.bestModel"
   ]
  },
  {
   "cell_type": "code",
   "execution_count": 15,
   "metadata": {},
   "outputs": [
    {
     "name": "stdout",
     "output_type": "stream",
     "text": [
      "Rank: 10\n",
      "Reg Param: 0.01\n",
      "Max Iteration: 5\n"
     ]
    }
   ],
   "source": [
    "# view the parameters of the best model\n",
    "print('Rank:', best_model._java_obj.parent().getRank())\n",
    "print('Reg Param:', best_model._java_obj.parent().getRegParam())\n",
    "print('Max Iteration:', best_model._java_obj.parent().getMaxIter())"
   ]
  },
  {
   "attachments": {},
   "cell_type": "markdown",
   "metadata": {},
   "source": [
    "#### Predictions on Test Set"
   ]
  },
  {
   "cell_type": "code",
   "execution_count": 16,
   "metadata": {},
   "outputs": [],
   "source": [
    "# Get predictions for the test data using the best model\n",
    "predictions = best_model.transform(test)\n",
    "predictions = predictions.na.drop()"
   ]
  },
  {
   "attachments": {},
   "cell_type": "markdown",
   "metadata": {},
   "source": [
    "#### Model Evaluation"
   ]
  },
  {
   "cell_type": "code",
   "execution_count": 17,
   "metadata": {},
   "outputs": [
    {
     "name": "stdout",
     "output_type": "stream",
     "text": [
      "RMSE: 0.8906926686566768\n"
     ]
    }
   ],
   "source": [
    "# Evaluate Performance of model using RMSE\n",
    "rmse = eval.evaluate(predictions)\n",
    "print(f\"RMSE: {rmse}\")"
   ]
  },
  {
   "attachments": {},
   "cell_type": "markdown",
   "metadata": {},
   "source": [
    "#### Making Recommendations"
   ]
  },
  {
   "cell_type": "code",
   "execution_count": 30,
   "metadata": {},
   "outputs": [],
   "source": [
    "# Making recommendations for users\n",
    "num_recommendations = 10\n",
    "userID = 1\n",
    "userSchema = StructType(\n",
    "    [StructField('userId', IntegerType(), True)]\n",
    ")\n",
    "users = spark.createDataFrame([[userID,]], userSchema)\n",
    "\n",
    "recommendations = best_model.recommendForUserSubset(users, num_recommendations)\n",
    "\n"
   ]
  },
  {
   "cell_type": "code",
   "execution_count": 31,
   "metadata": {},
   "outputs": [
    {
     "name": "stdout",
     "output_type": "stream",
     "text": [
      "+------+--------------------+\n",
      "|userId|     recommendations|\n",
      "+------+--------------------+\n",
      "|     1|[{3880, 10.376456...|\n",
      "+------+--------------------+\n",
      "\n"
     ]
    }
   ],
   "source": [
    "recommendations.show()"
   ]
  },
  {
   "cell_type": "code",
   "execution_count": 32,
   "metadata": {},
   "outputs": [
    {
     "name": "stdout",
     "output_type": "stream",
     "text": [
      "+------+-------+---------+\n",
      "|userId|movieId|   rating|\n",
      "+------+-------+---------+\n",
      "|     1|   3880|10.376456|\n",
      "|     1|   2773|10.375473|\n",
      "|     1|   1696|10.371819|\n",
      "|     1|    682|10.186635|\n",
      "|     1|   2209| 9.311568|\n",
      "|     1|   1930| 9.137518|\n",
      "|     1|   2963| 8.924449|\n",
      "|     1|   2197| 8.831035|\n",
      "|     1|   2998| 8.741822|\n",
      "|     1|    108| 8.638776|\n",
      "+------+-------+---------+\n",
      "\n"
     ]
    }
   ],
   "source": [
    "recommendations = recommendations.withColumn('rec_explode', explode('recommendations'))\\\n",
    "    .select('userId', col('rec_explode.movieId'), col('rec_explode.rating'))\n",
    "\n",
    "recommendations.show()"
   ]
  },
  {
   "cell_type": "code",
   "execution_count": 33,
   "metadata": {},
   "outputs": [
    {
     "name": "stdout",
     "output_type": "stream",
     "text": [
      "+-------+----------------+--------------------+\n",
      "|movieId|           title|              genres|\n",
      "+-------+----------------+--------------------+\n",
      "|      1|Toy Story (1995)|Animation|Childre...|\n",
      "+-------+----------------+--------------------+\n",
      "only showing top 1 row\n",
      "\n"
     ]
    }
   ],
   "source": [
    "movies.show(1)"
   ]
  },
  {
   "cell_type": "code",
   "execution_count": 34,
   "metadata": {},
   "outputs": [
    {
     "name": "stdout",
     "output_type": "stream",
     "text": [
      "+-------+------+---------+--------------------+-----------------+\n",
      "|movieId|userId|   rating|               title|           genres|\n",
      "+-------+------+---------+--------------------+-----------------+\n",
      "|   3880|     1|10.376456|Ballad of Ramblin...|      Documentary|\n",
      "|   2773|     1|10.375473|Alice and Martin ...|            Drama|\n",
      "|   1696|     1|10.371819|         Bent (1997)|        Drama|War|\n",
      "|    682|     1|10.186635|Tigrero: A Film T...|Documentary|Drama|\n",
      "|   2209|     1| 9.311568|Young and Innocen...|   Crime|Thriller|\n",
      "|   1930|     1| 9.137518|    Cavalcade (1933)|            Drama|\n",
      "|   2963|     1| 8.924449| Joe the King (1999)|      Crime|Drama|\n",
      "|   2197|     1| 8.831035|    Firelight (1997)|            Drama|\n",
      "|   2998|     1| 8.741822|Dreaming of Josep...|          Romance|\n",
      "|    108|     1| 8.638776|      Catwalk (1995)|      Documentary|\n",
      "+-------+------+---------+--------------------+-----------------+\n",
      "\n"
     ]
    }
   ],
   "source": [
    "recommendations.join(movies, on = 'movieId').show()"
   ]
  },
  {
   "cell_type": "code",
   "execution_count": 35,
   "metadata": {},
   "outputs": [
    {
     "name": "stdout",
     "output_type": "stream",
     "text": [
      "+-------+------+------+---------+--------------------+--------------------+\n",
      "|movieId|userId|rating|timeStamp|               title|              genres|\n",
      "+-------+------+------+---------+--------------------+--------------------+\n",
      "|   1193|     1|     5|978300760|One Flew Over the...|               Drama|\n",
      "|   2355|     1|     5|978824291|Bug's Life, A (1998)|Animation|Childre...|\n",
      "|   1287|     1|     5|978302039|      Ben-Hur (1959)|Action|Adventure|...|\n",
      "|   2804|     1|     5|978300719|Christmas Story, ...|        Comedy|Drama|\n",
      "|    595|     1|     5|978824268|Beauty and the Be...|Animation|Childre...|\n",
      "|     48|     1|     5|978824351|   Pocahontas (1995)|Animation|Childre...|\n",
      "|   1035|     1|     5|978301753|Sound of Music, T...|             Musical|\n",
      "|   3105|     1|     5|978301713|   Awakenings (1990)|               Drama|\n",
      "|   1270|     1|     5|978300055|Back to the Futur...|       Comedy|Sci-Fi|\n",
      "|    527|     1|     5|978824195|Schindler's List ...|           Drama|War|\n",
      "+-------+------+------+---------+--------------------+--------------------+\n",
      "only showing top 10 rows\n",
      "\n"
     ]
    }
   ],
   "source": [
    "data.join(movies, on = 'movieId').filter('userId = 1').sort('rating', ascending = False).show(10)"
   ]
  },
  {
   "cell_type": "code",
   "execution_count": null,
   "metadata": {},
   "outputs": [],
   "source": []
  }
 ],
 "metadata": {
  "kernelspec": {
   "display_name": "base",
   "language": "python",
   "name": "python3"
  },
  "language_info": {
   "codemirror_mode": {
    "name": "ipython",
    "version": 3
   },
   "file_extension": ".py",
   "mimetype": "text/x-python",
   "name": "python",
   "nbconvert_exporter": "python",
   "pygments_lexer": "ipython3",
   "version": "3.7.6"
  },
  "orig_nbformat": 4,
  "vscode": {
   "interpreter": {
    "hash": "cfe1806ee3762726609472ee4f4ffc37196835ec71722d530286fe0706b251ae"
   }
  }
 },
 "nbformat": 4,
 "nbformat_minor": 2
}
